{
 "cells": [
  {
   "cell_type": "markdown",
   "metadata": {},
   "source": [
    "# Generalized Tic Tac Toe Pattern Generator\n",
    "\n",
    "This notebook demonstrates how to calculate all permutations of a Tic Tac Toe grid for a given dimension $(x)$ and a specified number $(k)$ of one type of item (e.g., binary 1s and 0s).\n",
    "\n",
    "It reduces the permutations to unique patterns by accounting for rotational symmetry."
   ]
  },
  {
   "cell_type": "markdown",
   "metadata": {},
   "source": [
    "## Setup\n",
    "\n",
    "### Supporting Libraries\n",
    "We make use of numpy and itertools for this calculation, so you must import them."
   ]
  },
  {
   "cell_type": "code",
   "execution_count": 4,
   "metadata": {},
   "outputs": [],
   "source": [
    "import numpy as np\n",
    "from itertools import permutations"
   ]
  },
  {
   "cell_type": "markdown",
   "metadata": {},
   "source": [
    "### Define Grid Combination Dimension and item count\n",
    "\n",
    "We will set the values of variables grid combination $\\binom{n}{k}$, where grid size $n=(x^2)$ and we want $k$ items of type 1 and $(x^2 - k)$ items of type 0.\n",
    "\n",
    "**Warning:** Computation for grids larger than (x = 3) may require significant resources. Use with caution for large (x) values."
   ]
  },
  {
   "cell_type": "code",
   "execution_count": 2,
   "metadata": {},
   "outputs": [],
   "source": [
    "x = 3  # Dimension of the grid (e.g., 3 for 3x3).\n",
    "k = 5  # Number of type 1 items"
   ]
  },
  {
   "cell_type": "markdown",
   "metadata": {},
   "source": [
    "## Generative Functions\n",
    "\n",
    "The functions below allow us to generate permutations, define rotational symmetry, and identify unique patterns.\n",
    "\n",
    "### Step 1: Generate all permuatations for the grid combination\n",
    "**Description:** \n",
    "Generate all permutations of an $n=x^2$ grid with $k$ items of type 1 and $(x^2 - k)$ items of type 0.\n",
    "\n",
    "**Parameters:** \n",
    "- x (int): Dimension of the grid (e.g., 3 for 3x3).\n",
    "- k (int): Number of type 1 items.\n",
    "\n",
    "**Returns:**\n",
    "- set: All unique permutations of the grid as tuples."
   ]
  },
  {
   "cell_type": "code",
   "execution_count": 5,
   "metadata": {},
   "outputs": [
    {
     "name": "stdout",
     "output_type": "stream",
     "text": [
      "Generating all permutations for a 3x3 grid with 5 type 1 items...\n",
      "Total permutations: 126\n"
     ]
    }
   ],
   "source": [
    "def generate_permutations(x, k):\n",
    "    n = x**2\n",
    "    initial_grid = [1] * k + [0] * (n - k)\n",
    "    return set(permutations(initial_grid))\n",
    "\n",
    "print(f'Generating all permutations for a {x}x{x} grid with {k} type 1 items...')\n",
    "all_permutations = generate_permutations(x, k)\n",
    "print(f'Total permutations: {len(all_permutations)}')"
   ]
  },
  {
   "cell_type": "code",
   "execution_count": 6,
   "metadata": {},
   "outputs": [
    {
     "name": "stdout",
     "output_type": "stream",
     "text": [
      "Permutations: {(0, 0, 1, 1, 1, 0, 1, 0, 1), (1, 1, 1, 1, 1, 0, 0, 0, 0), (0, 0, 1, 1, 1, 0, 1, 1, 0), (0, 1, 0, 1, 1, 0, 1, 1, 0), (0, 0, 0, 1, 1, 0, 1, 1, 1), (1, 1, 0, 0, 0, 0, 1, 1, 1), (1, 1, 0, 1, 0, 1, 1, 0, 0), (1, 1, 1, 1, 0, 0, 0, 0, 1), (0, 1, 0, 1, 1, 0, 1, 0, 1), (1, 0, 0, 0, 0, 1, 1, 1, 1), (0, 0, 0, 1, 1, 1, 1, 0, 1), (1, 1, 1, 0, 1, 0, 0, 0, 1), (0, 1, 1, 1, 1, 1, 0, 0, 0), (1, 1, 1, 0, 1, 0, 0, 1, 0), (0, 0, 0, 1, 1, 1, 1, 1, 0), (1, 0, 1, 0, 1, 1, 0, 1, 0), (1, 0, 1, 1, 0, 1, 0, 1, 0), (0, 1, 1, 1, 0, 1, 0, 1, 0), (0, 1, 0, 1, 1, 1, 1, 0, 0), (1, 0, 1, 0, 1, 1, 1, 0, 0), (1, 1, 1, 1, 0, 1, 0, 0, 0), (0, 1, 1, 0, 0, 0, 1, 1, 1), (0, 1, 1, 0, 1, 0, 1, 1, 0), (1, 1, 0, 0, 1, 0, 1, 1, 0), (1, 0, 1, 0, 0, 1, 1, 1, 0), (0, 1, 1, 1, 0, 1, 0, 0, 1), (0, 1, 1, 1, 1, 0, 0, 0, 1), (1, 1, 1, 1, 0, 0, 1, 0, 0), (1, 0, 1, 0, 1, 0, 0, 1, 1), (0, 0, 1, 1, 0, 1, 0, 1, 1), (1, 1, 0, 0, 1, 0, 1, 0, 1), (0, 1, 1, 0, 0, 1, 1, 1, 0), (1, 1, 1, 0, 0, 1, 0, 1, 0), (1, 0, 1, 0, 0, 1, 1, 0, 1), (1, 1, 0, 1, 1, 1, 0, 0, 0), (1, 1, 1, 0, 0, 0, 1, 1, 0), (1, 1, 0, 0, 1, 1, 1, 0, 0), (1, 1, 0, 1, 0, 1, 0, 1, 0), (1, 1, 1, 0, 0, 1, 0, 0, 1), (0, 1, 1, 1, 0, 0, 1, 0, 1), (1, 0, 0, 1, 0, 1, 0, 1, 1), (0, 1, 0, 1, 1, 0, 0, 1, 1), (0, 0, 1, 1, 0, 0, 1, 1, 1), (1, 1, 1, 0, 0, 0, 1, 0, 1), (1, 0, 1, 1, 1, 0, 0, 1, 0), (1, 1, 0, 0, 0, 1, 1, 1, 0), (1, 0, 1, 1, 0, 0, 1, 1, 0), (1, 1, 0, 0, 0, 1, 1, 0, 1), (0, 1, 0, 1, 1, 1, 0, 0, 1), (1, 0, 1, 0, 1, 1, 0, 0, 1), (0, 1, 1, 0, 1, 0, 0, 1, 1), (1, 0, 1, 1, 0, 0, 1, 0, 1), (1, 0, 0, 1, 1, 0, 0, 1, 1), (1, 1, 1, 0, 0, 0, 0, 1, 1), (0, 1, 1, 0, 1, 0, 1, 0, 1), (1, 1, 1, 0, 1, 1, 0, 0, 0), (1, 0, 0, 1, 1, 1, 0, 0, 1), (1, 0, 0, 1, 1, 1, 0, 1, 0), (1, 0, 1, 1, 0, 1, 0, 0, 1), (1, 1, 1, 0, 1, 0, 1, 0, 0), (0, 1, 1, 0, 0, 1, 1, 0, 1), (0, 1, 0, 0, 1, 1, 0, 1, 1), (1, 1, 0, 1, 0, 0, 0, 1, 1), (0, 1, 1, 1, 0, 0, 0, 1, 1), (0, 0, 1, 1, 1, 1, 0, 0, 1), (0, 0, 1, 1, 1, 1, 1, 0, 0), (1, 0, 1, 0, 0, 0, 1, 1, 1), (0, 1, 1, 0, 1, 1, 0, 1, 0), (0, 1, 0, 0, 1, 0, 1, 1, 1), (0, 0, 1, 1, 0, 1, 1, 1, 0), (1, 1, 1, 0, 0, 1, 1, 0, 0), (0, 0, 1, 1, 1, 0, 0, 1, 1), (0, 1, 0, 1, 0, 1, 1, 0, 1), (1, 0, 1, 1, 1, 0, 0, 0, 1), (0, 1, 0, 1, 0, 1, 1, 1, 0), (1, 1, 0, 1, 0, 1, 0, 0, 1), (1, 0, 0, 1, 0, 1, 1, 1, 0), (0, 0, 1, 1, 0, 1, 1, 0, 1), (0, 1, 0, 1, 1, 1, 0, 1, 0), (0, 1, 1, 1, 1, 0, 1, 0, 0), (1, 0, 0, 1, 1, 0, 1, 1, 0), (1, 0, 1, 1, 1, 1, 0, 0, 0), (1, 0, 0, 0, 1, 0, 1, 1, 1), (1, 0, 0, 1, 0, 1, 1, 0, 1), (1, 1, 0, 1, 1, 0, 1, 0, 0), (0, 1, 1, 0, 1, 1, 1, 0, 0), (1, 0, 0, 0, 1, 1, 1, 0, 1), (1, 1, 0, 0, 1, 0, 0, 1, 1), (1, 0, 1, 0, 1, 0, 1, 1, 0), (1, 0, 0, 0, 1, 1, 1, 1, 0), (0, 0, 1, 1, 1, 1, 0, 1, 0), (1, 1, 0, 0, 1, 1, 0, 1, 0), (0, 1, 1, 0, 0, 1, 0, 1, 1), (0, 0, 1, 0, 1, 1, 1, 1, 0), (0, 0, 0, 1, 1, 1, 0, 1, 1), (1, 0, 1, 1, 1, 0, 1, 0, 0), (0, 0, 1, 0, 1, 0, 1, 1, 1), (0, 1, 0, 1, 0, 1, 0, 1, 1), (0, 0, 1, 0, 0, 1, 1, 1, 1), (0, 0, 0, 0, 1, 1, 1, 1, 1), (0, 1, 0, 0, 0, 1, 1, 1, 1), (0, 1, 0, 0, 1, 1, 1, 0, 1), (1, 0, 0, 1, 0, 0, 1, 1, 1), (1, 1, 1, 1, 0, 0, 0, 1, 0), (0, 1, 0, 0, 1, 1, 1, 1, 0), (0, 0, 1, 0, 1, 1, 0, 1, 1), (0, 1, 1, 0, 1, 1, 0, 0, 1), (1, 0, 1, 1, 0, 0, 0, 1, 1), (1, 0, 1, 0, 0, 1, 0, 1, 1), (0, 1, 0, 1, 0, 0, 1, 1, 1), (1, 1, 0, 1, 1, 0, 0, 1, 0), (1, 0, 0, 0, 1, 1, 0, 1, 1), (0, 1, 1, 1, 1, 0, 0, 1, 0), (1, 0, 0, 1, 1, 1, 1, 0, 0), (1, 0, 1, 1, 0, 1, 1, 0, 0), (1, 0, 0, 1, 1, 0, 1, 0, 1), (0, 1, 1, 1, 0, 1, 1, 0, 0), (1, 1, 0, 1, 1, 0, 0, 0, 1), (1, 1, 0, 1, 0, 0, 1, 1, 0), (1, 1, 0, 0, 0, 1, 0, 1, 1), (0, 1, 1, 1, 0, 0, 1, 1, 0), (1, 1, 0, 0, 1, 1, 0, 0, 1), (0, 0, 1, 0, 1, 1, 1, 0, 1), (1, 0, 1, 0, 1, 0, 1, 0, 1), (1, 1, 0, 1, 0, 0, 1, 0, 1), (0, 0, 0, 1, 0, 1, 1, 1, 1)}\n"
     ]
    }
   ],
   "source": [
    "# Optional, print all_permutations\n",
    "print(f'Permutations: {(all_permutations)}')"
   ]
  },
  {
   "cell_type": "markdown",
   "metadata": {},
   "source": [
    "### Step 2: Generate Rotational Transformations\n",
    "**Description:** \n",
    "A function to generate all rotational transformations of an x^2 grid to be used in step 3 to identify the repeted patterns in step 3.\n",
    "\n",
    "**Parameters:** \n",
    "- grid (tuple): The grid as a flat tuple.\n",
    "- x (int): Dimension of the grid.\n",
    "\n",
    "**Returns:**\n",
    "- set: All rotational variants of the grid."
   ]
  },
  {
   "cell_type": "code",
   "execution_count": 7,
   "metadata": {},
   "outputs": [],
   "source": [
    "def generate_rotations(grid, x):\n",
    "    grid = np.array(grid).reshape(x, x)\n",
    "    rotations = set()\n",
    "    for _ in range(4):\n",
    "        rotations.add(tuple(grid.flatten()))\n",
    "        grid = np.rot90(grid)\n",
    "    return rotations"
   ]
  },
  {
   "cell_type": "code",
   "execution_count": 9,
   "metadata": {},
   "outputs": [
    {
     "name": "stdout",
     "output_type": "stream",
     "text": [
      "Example Permutation: (0, 0, 1, 1, 1, 0, 1, 0, 1)\n",
      "Example Rotation: {(1, 1, 0, 0, 1, 0, 1, 0, 1), (0, 0, 1, 1, 1, 0, 1, 0, 1), (1, 0, 1, 0, 1, 1, 1, 0, 0), (1, 0, 1, 0, 1, 0, 0, 1, 1)}\n",
      "Example Lexicographic Minimum: (0, 0, 1, 1, 1, 0, 1, 0, 1)\n"
     ]
    }
   ],
   "source": [
    "# Optional display of and example permutation and its rotations\n",
    "example_perm = next(iter(all_permutations)) # Select one example permutation from the set\n",
    "example_rotation = generate_rotations(example_perm, x) # Generate rotations for the example permutation\n",
    "\n",
    "print(f\"Example Permutation: {example_perm}\")\n",
    "print(f\"Example Rotation: {example_rotation}\")\n",
    "print(f\"Example Lexicographic Minimum: {min(example_rotation)}\")"
   ]
  },
  {
   "cell_type": "markdown",
   "metadata": {},
   "source": [
    "### Step 3: Find Unique Patterns\n",
    "**Description:** \n",
    "Find unique patterns by selecting the canonical rotation for each grid.\n",
    "\n",
    "**Parameters:** \n",
    "- permutations (set): All grid permutations.\n",
    "- x (int): Dimension of the grid.\n",
    "\n",
    "**Returns:**\n",
    "- set: Unique patterns as tuples."
   ]
  },
  {
   "cell_type": "code",
   "execution_count": 10,
   "metadata": {},
   "outputs": [],
   "source": [
    "def find_unique_patterns(permutations, x):\n",
    "    unique_patterns = set()\n",
    "    for perm in permutations:\n",
    "        rotations = generate_rotations(perm, x)\n",
    "        unique_patterns.add(min(rotations))\n",
    "    return unique_patterns"
   ]
  },
  {
   "cell_type": "code",
   "execution_count": 11,
   "metadata": {},
   "outputs": [
    {
     "name": "stdout",
     "output_type": "stream",
     "text": [
      "Finding unique patterns...\n",
      "Unique patterns count: 34\n"
     ]
    }
   ],
   "source": [
    "print('Finding unique patterns...')\n",
    "unique_patterns = find_unique_patterns(all_permutations, x)\n",
    "print(f'Unique patterns count: {len(unique_patterns)}')"
   ]
  },
  {
   "cell_type": "code",
   "execution_count": 12,
   "metadata": {},
   "outputs": [
    {
     "name": "stdout",
     "output_type": "stream",
     "text": [
      "{(0, 0, 1, 0, 1, 0, 1, 1, 1), (0, 0, 1, 1, 1, 0, 1, 0, 1), (0, 0, 1, 1, 0, 1, 1, 1, 0), (0, 0, 1, 1, 1, 0, 1, 1, 0), (0, 0, 0, 1, 1, 0, 1, 1, 1), (0, 1, 0, 1, 0, 1, 0, 1, 1), (0, 0, 1, 0, 0, 1, 1, 1, 1), (0, 0, 0, 0, 1, 1, 1, 1, 1), (0, 0, 1, 1, 1, 0, 0, 1, 1), (0, 1, 0, 1, 0, 1, 1, 0, 1), (0, 1, 0, 0, 0, 1, 1, 1, 1), (0, 1, 0, 0, 1, 1, 1, 0, 1), (0, 1, 0, 0, 1, 1, 1, 1, 0), (0, 0, 1, 1, 0, 1, 1, 0, 1), (0, 1, 0, 1, 1, 1, 0, 1, 0), (0, 0, 0, 1, 1, 1, 1, 0, 1), (0, 0, 0, 1, 1, 1, 1, 1, 0), (0, 1, 1, 0, 0, 0, 1, 1, 1), (0, 1, 1, 0, 1, 0, 1, 1, 0), (0, 1, 1, 0, 1, 0, 1, 0, 1), (0, 0, 1, 1, 0, 1, 0, 1, 1), (0, 1, 1, 0, 0, 1, 1, 1, 0), (0, 0, 1, 1, 1, 1, 0, 1, 0), (0, 1, 1, 0, 0, 1, 1, 0, 1), (0, 0, 1, 0, 1, 1, 1, 1, 0), (0, 0, 1, 0, 1, 1, 1, 0, 1), (0, 0, 1, 1, 1, 1, 0, 0, 1), (1, 0, 1, 0, 1, 0, 1, 0, 1), (0, 0, 0, 1, 1, 1, 0, 1, 1), (0, 1, 1, 1, 0, 0, 1, 0, 1), (0, 0, 0, 1, 0, 1, 1, 1, 1), (1, 0, 1, 0, 0, 0, 1, 1, 1), (0, 0, 1, 1, 1, 1, 1, 0, 0), (0, 0, 1, 1, 0, 0, 1, 1, 1)}\n"
     ]
    }
   ],
   "source": [
    "# Optional output of Unique Patterns\n",
    "print(f'{(unique_patterns)}')"
   ]
  }
 ],
 "metadata": {
  "kernelspec": {
   "display_name": "base",
   "language": "python",
   "name": "python3"
  },
  "language_info": {
   "codemirror_mode": {
    "name": "ipython",
    "version": 3
   },
   "file_extension": ".py",
   "mimetype": "text/x-python",
   "name": "python",
   "nbconvert_exporter": "python",
   "pygments_lexer": "ipython3",
   "version": "3.11.5"
  }
 },
 "nbformat": 4,
 "nbformat_minor": 4
}
